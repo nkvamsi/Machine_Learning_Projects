{
 "cells": [
  {
   "cell_type": "code",
   "execution_count": 26,
   "metadata": {
    "colab": {
     "base_uri": "https://localhost:8080/"
    },
    "id": "xN4yW0CY6m63",
    "outputId": "9afef1b9-fe43-451b-f3ad-8486c96ed5ed"
   },
   "outputs": [
    {
     "name": "stdout",
     "output_type": "stream",
     "text": [
      "[[ 1.65301904 72.87114665 24.          0.        ]\n",
      " [ 1.64713849 72.61278531 34.          0.        ]\n",
      " [ 1.64720558 73.53968351 33.          1.        ]\n",
      " [ 1.73230089 76.06787034 30.          1.        ]\n",
      " [ 1.67507027 81.05582112 30.          1.        ]\n",
      " [ 1.57809707 64.92608468 30.          0.        ]\n",
      " [ 1.65876294 69.38092449 30.          1.        ]\n",
      " [ 1.6763296  77.06229599 31.          1.        ]\n",
      " [ 1.71872241 62.11292332 37.          0.        ]\n",
      " [ 1.52022182 66.15144402 27.          0.        ]\n",
      " [ 1.55526893 66.07638614 31.          0.        ]\n",
      " [ 1.69693332 77.45386245 34.          1.        ]\n",
      " [ 1.68879808 76.48964073 37.          1.        ]\n",
      " [ 1.52135529 63.95294495 35.          0.        ]]\n",
      "[[ 1.62065759 59.37655744 32.        ]\n",
      " [ 1.77939838 72.07177567 36.        ]\n",
      " [ 1.70045766 66.26750811 31.        ]\n",
      " [ 1.65910862 61.7516219  29.        ]]\n"
     ]
    }
   ],
   "source": [
    "import numpy as np\n",
    "import math\n",
    "\n",
    "def clean_data(line):\n",
    "    l = line.replace('(', '').replace(')', '').replace(' ', '').replace('M','1').replace('W','0').strip().split(',')\n",
    "    return [float(i) for i in l]\n",
    "\n",
    "def fetch_data(filename):\n",
    "    with open(filename, 'r') as f:\n",
    "        input_data = f.readlines()\n",
    "        clean_input = list(map(clean_data, input_data))\n",
    "        f.close()\n",
    "    return clean_input\n",
    "\n",
    "\n",
    "def readFile(dataset_path):\n",
    "    input_data = fetch_data(dataset_path)\n",
    "    input_np = np.array(input_data)\n",
    "    return input_np\n",
    "\n",
    "training_data = './dataset/1a-training.txt'\n",
    "test_data = './dataset/1a-test.txt'\n",
    "large_120_data = './dataset/1c-data.txt'\n",
    "\n",
    "train_np = readFile(training_data)\n",
    "print(train_np)\n",
    "test_np = readFile(test_data)\n",
    "print(test_np)\n",
    "large_np = readFile(large_120_data)\n"
   ]
  },
  {
   "cell_type": "markdown",
   "metadata": {},
   "source": [
    "# K Nearest Neighbor"
   ]
  },
  {
   "cell_type": "code",
   "execution_count": 27,
   "metadata": {
    "id": "sab9YOsz7aD2"
   },
   "outputs": [],
   "source": [
    "# Defined fucntions for different similarity measures\n",
    "def minkowski_dist(p1, p2):\n",
    "    dim, sum = len(p1), 0\n",
    "    for index in range(dim - 1):\n",
    "        sum += math.pow(abs(p1[index] - p2[index]), 3)\n",
    "    return math.pow(sum,1/3)\n",
    "\n",
    "def manhattan_dist(p1, p2):\n",
    "    dim, sum = len(p1), 0\n",
    "    for index in range(dim - 1):\n",
    "        sum += abs(p1[index] - p2[index])\n",
    "    return sum\n",
    "\n",
    "def cartesian_dist(p1, p2):\n",
    "    dim, sum = len(p1), 0\n",
    "    for index in range(dim - 1):\n",
    "        sum += math.pow(p1[index] - p2[index], 2)\n",
    "    return math.sqrt(sum)"
   ]
  },
  {
   "cell_type": "code",
   "execution_count": 28,
   "metadata": {
    "id": "iB51DoYTeoyE"
   },
   "outputs": [],
   "source": [
    "# Implemented KNN algorithm in this cell\n",
    "def knn(train_set, new_sample, K, dist):\n",
    "    dists, train_size = {}, len(train_set)\n",
    "    # Calcuating distance between the new sample and the data in training set\n",
    "    for i in range(train_size):\n",
    "        if dist == 'Cartesian':\n",
    "            d = cartesian_dist(train_set[i], new_sample)\n",
    "        elif dist == 'Manhattan':\n",
    "            d = manhattan_dist(train_set[i], new_sample)\n",
    "        elif dist == 'Minkowski':\n",
    "            d = minkowski_dist(train_set[i], new_sample)\n",
    "\n",
    "        dists[i] = d\n",
    "    \n",
    "    k_neighbors = sorted(dists, key=dists.get)[:K]\n",
    "    \n",
    "    M, W = 0, 0\n",
    "    for index in k_neighbors:\n",
    "        if train_set[index][-1] == 1.:\n",
    "            M += 1\n",
    "        else:\n",
    "            W += 1\n",
    "            \n",
    "    if M > W:\n",
    "        return 'M'\n",
    "    else:\n",
    "        return 'W'"
   ]
  },
  {
   "cell_type": "markdown",
   "metadata": {
    "id": "vSxqKW8zYEHL"
   },
   "source": [
    "# 1)A)"
   ]
  },
  {
   "cell_type": "code",
   "execution_count": 29,
   "metadata": {
    "colab": {
     "base_uri": "https://localhost:8080/"
    },
    "id": "MY0lWL3fhLrO",
    "outputId": "7f941b58-7c11-485a-d038-9ffe39f8e1b4",
    "scrolled": true
   },
   "outputs": [
    {
     "name": "stdout",
     "output_type": "stream",
     "text": [
      "------------------------------------------------------------------\n",
      "For k = 1 with similarity measurements as Cartesian\n",
      "------------------------------------------------------------------\n",
      "[ 1.62065759 59.37655744 32.        ]\t = \tW\n",
      "[ 1.77939838 72.07177567 36.        ]\t = \tW\n",
      "[ 1.70045766 66.26750811 31.        ]\t = \tW\n",
      "[ 1.65910862 61.7516219  29.        ]\t = \tW\n",
      "------------------------------------------------------------------\n",
      "For k = 1 with similarity measurements as Manhattan\n",
      "------------------------------------------------------------------\n",
      "[ 1.62065759 59.37655744 32.        ]\t = \tW\n",
      "[ 1.77939838 72.07177567 36.        ]\t = \tW\n",
      "[ 1.70045766 66.26750811 31.        ]\t = \tW\n",
      "[ 1.65910862 61.7516219  29.        ]\t = \tW\n",
      "------------------------------------------------------------------\n",
      "For k = 1 with similarity measurements as Minkowski\n",
      "------------------------------------------------------------------\n",
      "[ 1.62065759 59.37655744 32.        ]\t = \tW\n",
      "[ 1.77939838 72.07177567 36.        ]\t = \tW\n",
      "[ 1.70045766 66.26750811 31.        ]\t = \tW\n",
      "[ 1.65910862 61.7516219  29.        ]\t = \tW\n",
      "\n",
      "***********************************************************************\n",
      "\n",
      "------------------------------------------------------------------\n",
      "For k = 3 with similarity measurements as Cartesian\n",
      "------------------------------------------------------------------\n",
      "[ 1.62065759 59.37655744 32.        ]\t = \tW\n",
      "[ 1.77939838 72.07177567 36.        ]\t = \tM\n",
      "[ 1.70045766 66.26750811 31.        ]\t = \tW\n",
      "[ 1.65910862 61.7516219  29.        ]\t = \tW\n",
      "------------------------------------------------------------------\n",
      "For k = 3 with similarity measurements as Manhattan\n",
      "------------------------------------------------------------------\n",
      "[ 1.62065759 59.37655744 32.        ]\t = \tW\n",
      "[ 1.77939838 72.07177567 36.        ]\t = \tM\n",
      "[ 1.70045766 66.26750811 31.        ]\t = \tW\n",
      "[ 1.65910862 61.7516219  29.        ]\t = \tW\n",
      "------------------------------------------------------------------\n",
      "For k = 3 with similarity measurements as Minkowski\n",
      "------------------------------------------------------------------\n",
      "[ 1.62065759 59.37655744 32.        ]\t = \tW\n",
      "[ 1.77939838 72.07177567 36.        ]\t = \tM\n",
      "[ 1.70045766 66.26750811 31.        ]\t = \tW\n",
      "[ 1.65910862 61.7516219  29.        ]\t = \tW\n",
      "\n",
      "***********************************************************************\n",
      "\n",
      "------------------------------------------------------------------\n",
      "For k = 7 with similarity measurements as Cartesian\n",
      "------------------------------------------------------------------\n",
      "[ 1.62065759 59.37655744 32.        ]\t = \tW\n",
      "[ 1.77939838 72.07177567 36.        ]\t = \tM\n",
      "[ 1.70045766 66.26750811 31.        ]\t = \tW\n",
      "[ 1.65910862 61.7516219  29.        ]\t = \tW\n",
      "------------------------------------------------------------------\n",
      "For k = 7 with similarity measurements as Manhattan\n",
      "------------------------------------------------------------------\n",
      "[ 1.62065759 59.37655744 32.        ]\t = \tW\n",
      "[ 1.77939838 72.07177567 36.        ]\t = \tM\n",
      "[ 1.70045766 66.26750811 31.        ]\t = \tW\n",
      "[ 1.65910862 61.7516219  29.        ]\t = \tW\n",
      "------------------------------------------------------------------\n",
      "For k = 7 with similarity measurements as Minkowski\n",
      "------------------------------------------------------------------\n",
      "[ 1.62065759 59.37655744 32.        ]\t = \tW\n",
      "[ 1.77939838 72.07177567 36.        ]\t = \tM\n",
      "[ 1.70045766 66.26750811 31.        ]\t = \tW\n",
      "[ 1.65910862 61.7516219  29.        ]\t = \tW\n",
      "\n",
      "***********************************************************************\n",
      "\n"
     ]
    }
   ],
   "source": [
    "# Predicting output class for different k values and simitality measures\n",
    "for k in [1,3,7]:\n",
    "    for dist in ['Cartesian','Manhattan','Minkowski']:\n",
    "        print('------------------------------------------------------------------')\n",
    "        print('For k = ' + str(k) + ' with similarity measurements as ' + dist)\n",
    "        print('------------------------------------------------------------------')\n",
    "        for ns in test_np:\n",
    "            print(ns,end = '\\t = \\t')\n",
    "            print(knn(train_np,ns,k,dist))\n",
    "    print()\n",
    "    print('***********************************************************************')\n",
    "    print()"
   ]
  },
  {
   "cell_type": "markdown",
   "metadata": {
    "id": "1Lu558hHX91T"
   },
   "source": [
    "# 1)B)"
   ]
  },
  {
   "cell_type": "code",
   "execution_count": 30,
   "metadata": {
    "colab": {
     "base_uri": "https://localhost:8080/"
    },
    "id": "kbDWuXmnj33X",
    "outputId": "294f93f8-02ad-487f-e1d8-d64cabb4fe1d"
   },
   "outputs": [
    {
     "name": "stdout",
     "output_type": "stream",
     "text": [
      "Enter Height, Weight and Age as \",\" seperated parameters\n",
      "1.7359417237856, 77.004988515324, 20\n",
      "Enter K value 3\n",
      "Output = M\n"
     ]
    }
   ],
   "source": [
    "# Enter Height, Weight, Age and K value to predict the output label using KNN\n",
    "ns = input('Enter Height, Weight and Age as \",\" seperated parameters\\n')\n",
    "k = int(input('Enter K value '))\n",
    "ns = [float(i) for i in ns.split(',')]\n",
    "print('Output = ' + knn(train_np,ns,k,'Cartesian'))"
   ]
  },
  {
   "cell_type": "markdown",
   "metadata": {
    "id": "_3wMLmxXX53U"
   },
   "source": [
    "## 1)C)"
   ]
  },
  {
   "cell_type": "code",
   "execution_count": 10,
   "metadata": {
    "colab": {
     "base_uri": "https://localhost:8080/"
    },
    "id": "-rX1HDMUKDxY",
    "outputId": "929f2b7e-89b8-469d-c068-acd52d411f15"
   },
   "outputs": [
    {
     "name": "stdout",
     "output_type": "stream",
     "text": [
      " % Error for k = 1 is 45.38 %\n",
      " % Error for k = 3 is 38.66 %\n",
      " % Error for k = 5 is 38.66 %\n",
      " % Error for k = 7 is 39.5 %\n",
      " % Error for k = 9 is 36.97 %\n",
      " % Error for k = 11 is 41.18 %\n"
     ]
    }
   ],
   "source": [
    "# Here we are iterating through different k values with Cartesian (Euclidean) distance metric\n",
    "for k in [1,3,5,7,9,11]:\n",
    "    miss_classified = 0\n",
    "    # We are iterating through large_np dataset\n",
    "    for i in range(len(large_np)):\n",
    "        # Storing the new sample in a variable\n",
    "        ns = large_np[i]\n",
    "        # Deleteing the stored sample from the training data\n",
    "        large_np = np.delete(large_np, i, axis = 0)\n",
    "        # Predicitng the output class using KNN algorithm\n",
    "        op = (knn(large_np,np.delete(ns,-1),k,'Cartesian'))\n",
    "        # Checking here if the output label is classified correclty or not\n",
    "        if (ns[-1] == 0.0 and op == 'M') or (ns[-1] == 1.0 and op == 'W'):\n",
    "            miss_classified+=1\n",
    "        # Adding back the deleted sample from the training dataset\n",
    "        large_np = np.insert(large_np, i,  ns, axis = 0)\n",
    "    # Printing the error by checking the miss classified labels w.r.t total training dataset size - 1\n",
    "    print(\" % Error for k = \" + str(k) + ' is ' + str(round(miss_classified/(len(large_np)-1)*100,2)) + ' %')"
   ]
  },
  {
   "cell_type": "code",
   "execution_count": 11,
   "metadata": {},
   "outputs": [],
   "source": [
    "# From above we can see that k = 9 has lowest error, so we can say that for k = 9 we get the best performance."
   ]
  },
  {
   "cell_type": "markdown",
   "metadata": {
    "id": "stvXQ_kJOkMg"
   },
   "source": [
    "# 1)D)"
   ]
  },
  {
   "cell_type": "code",
   "execution_count": 12,
   "metadata": {
    "id": "m9bUKF0eF96T"
   },
   "outputs": [],
   "source": [
    "# Removed age from the training dataset\n",
    "large_np_wo_age = np.delete(large_np, 2, 1)"
   ]
  },
  {
   "cell_type": "code",
   "execution_count": 13,
   "metadata": {
    "colab": {
     "base_uri": "https://localhost:8080/"
    },
    "id": "iN6_4IkEGBfB",
    "outputId": "751a9d9e-c46a-40c8-8587-b757dce28292"
   },
   "outputs": [
    {
     "name": "stdout",
     "output_type": "stream",
     "text": [
      " % Error for k = 1 is 37.82 %\n",
      " % Error for k = 3 is 29.41 %\n",
      " % Error for k = 5 is 35.29 %\n",
      " % Error for k = 7 is 36.97 %\n",
      " % Error for k = 9 is 40.34 %\n",
      " % Error for k = 11 is 42.86 %\n"
     ]
    }
   ],
   "source": [
    "# Here we are iterating through different k values with Cartesian (Euclidean) distance metric\n",
    "for k in [1,3,5,7,9,11]:\n",
    "    miss_classified = 0\n",
    "    # We are iterating through large_np without age dataset\n",
    "    for i in range(len(large_np_wo_age)):\n",
    "        # Storing the new sample in a variable\n",
    "        ns = large_np_wo_age[i]\n",
    "        # Deleteing the stored sample from the training data\n",
    "        large_np_wo_age = np.delete(large_np_wo_age, i, axis = 0)\n",
    "        # Predicitng the output class using KNN algorithm\n",
    "        op = (knn(large_np_wo_age,np.delete(ns,-1),k,'Cartesian'))\n",
    "        # Checking here if the output label is classified correclty or not\n",
    "        if (ns[-1] == 0.0 and op == 'M') or (ns[-1] == 1.0 and op == 'W'):\n",
    "            miss_classified+=1\n",
    "        # Adding back the deleted sample to the training dataset\n",
    "        large_np_wo_age = np.insert(large_np_wo_age, i,  ns, axis = 0)\n",
    "    # Printing the error by checking the miss classified labels w.r.t total training dataset size - 1\n",
    "    print(\" % Error for k = \" + str(k) + ' is ' + str(round(miss_classified/(len(large_np)-1)*100,2)) + ' %')"
   ]
  },
  {
   "cell_type": "code",
   "execution_count": null,
   "metadata": {},
   "outputs": [],
   "source": [
    "# Here we see that k = 3 has lowest error. So we can say that k = 3 has performed better when age feature excluded."
   ]
  },
  {
   "cell_type": "code",
   "execution_count": null,
   "metadata": {},
   "outputs": [],
   "source": [
    "# From above results we see that for k value 1,3,5 and 7 the error is lower and for 9 and 10 the errors are slightly \n",
    "# higher, so from this we can see that without the age data the model was able to predict the gender better when \n",
    "# compared to the data when age was included."
   ]
  },
  {
   "cell_type": "markdown",
   "metadata": {},
   "source": [
    "# Gaussian Naive Bayes Classification"
   ]
  },
  {
   "cell_type": "code",
   "execution_count": 14,
   "metadata": {
    "id": "mln5Ais6G8ip"
   },
   "outputs": [],
   "source": [
    "# Creating a dictionary to seperate the M and W samples from the dataset and storing it in that dictionarty\n",
    "class_label_dict = {1.0:np.empty((0, 4), int),0.0:np.empty((0, 4), int)}\n",
    "for i in train_np:\n",
    "    class_label_dict[i[-1]] = np.append(class_label_dict[i[-1]], np.array([i]), axis=0)"
   ]
  },
  {
   "cell_type": "code",
   "execution_count": 15,
   "metadata": {
    "colab": {
     "base_uri": "https://localhost:8080/"
    },
    "id": "nR4chzAjyRwE",
    "outputId": "fe4d82d1-18d6-4b56-9511-065cf64e4644"
   },
   "outputs": [
    {
     "data": {
      "text/plain": [
       "{1.0: array([[ 1.64720558, 73.53968351, 33.        ,  1.        ],\n",
       "        [ 1.73230089, 76.06787034, 30.        ,  1.        ],\n",
       "        [ 1.67507027, 81.05582112, 30.        ,  1.        ],\n",
       "        [ 1.65876294, 69.38092449, 30.        ,  1.        ],\n",
       "        [ 1.6763296 , 77.06229599, 31.        ,  1.        ],\n",
       "        [ 1.69693332, 77.45386245, 34.        ,  1.        ],\n",
       "        [ 1.68879808, 76.48964073, 37.        ,  1.        ]]),\n",
       " 0.0: array([[ 1.65301904, 72.87114665, 24.        ,  0.        ],\n",
       "        [ 1.64713849, 72.61278531, 34.        ,  0.        ],\n",
       "        [ 1.57809707, 64.92608468, 30.        ,  0.        ],\n",
       "        [ 1.71872241, 62.11292332, 37.        ,  0.        ],\n",
       "        [ 1.52022182, 66.15144402, 27.        ,  0.        ],\n",
       "        [ 1.55526893, 66.07638614, 31.        ,  0.        ],\n",
       "        [ 1.52135529, 63.95294495, 35.        ,  0.        ]])}"
      ]
     },
     "execution_count": 15,
     "metadata": {},
     "output_type": "execute_result"
    }
   ],
   "source": [
    "class_label_dict"
   ]
  },
  {
   "cell_type": "code",
   "execution_count": 16,
   "metadata": {
    "id": "lgoNYUUIJzXy"
   },
   "outputs": [],
   "source": [
    "# Calculating Mean of output class 'M'\n",
    "# M_mh is Mean of output class 'M' for variable Height\n",
    "# M_mw is Mean of output class 'M' for variable Weight\n",
    "# M_ma is Mean of output class 'M' for variable Age\n",
    "M_mh,M_mw,M_ma, M_o =  np.mean(class_label_dict[1.0], axis = 0)"
   ]
  },
  {
   "cell_type": "code",
   "execution_count": 17,
   "metadata": {
    "id": "c01GCu6aI4yo"
   },
   "outputs": [],
   "source": [
    "# Calculating Mean of output class 'W'\n",
    "# W_mh is Mean of output class 'W' for variable Height\n",
    "# W_mw is Mean of output class 'W' for variable Weight\n",
    "# W_ma is Mean of output class 'W' for variable Age\n",
    "W_mh,W_mw,W_ma, W_o = np.mean(class_label_dict[0.0], axis = 0)"
   ]
  },
  {
   "cell_type": "code",
   "execution_count": 18,
   "metadata": {
    "id": "C4ET0dDpNE3n"
   },
   "outputs": [],
   "source": [
    "# Calculating variance of output class 'M'\n",
    "# M_vh is Variance of output class 'M' for variable Height\n",
    "# M_vw is Variance of output class 'M' for variable Weight\n",
    "# M_va is Variance of output class 'M' for variable Age\n",
    "M_vh,M_vw,M_va, M_o = np.var(class_label_dict[1.0], axis = 0)"
   ]
  },
  {
   "cell_type": "code",
   "execution_count": 19,
   "metadata": {
    "id": "9E2hirF_F3-h"
   },
   "outputs": [],
   "source": [
    "# Calculating variance of output class 'W'\n",
    "# W_vh is Variance of output class 'W' for variable Height\n",
    "# W_vw is Variance of output class 'W' for variable Weight\n",
    "# W_va is Variance of output class 'W' for variable Age\n",
    "W_vh,W_vw,W_va, W_o = np.var(class_label_dict[0.0], axis = 0)"
   ]
  },
  {
   "cell_type": "code",
   "execution_count": 20,
   "metadata": {
    "id": "zH79VICcRkIw"
   },
   "outputs": [],
   "source": [
    "M_m = [M_mh,M_mw,M_ma]\n",
    "W_m = [W_mh,W_mw,W_ma]\n",
    "M_v = [M_vh,M_vw,M_va]\n",
    "W_v = [W_vh,W_vw,W_va]"
   ]
  },
  {
   "cell_type": "code",
   "execution_count": 21,
   "metadata": {
    "id": "wDWuHX7BJKmT"
   },
   "outputs": [],
   "source": [
    "# This function uses Gaussian Naive Bayes Formula and returns the probability\n",
    "def gnb(ns, mean, var):\n",
    "    pi = np.pi\n",
    "    expr1 = 1/(np.sqrt(2 * np.pi * var))\n",
    "    expr2 = ((ns - mean) ** 2)/2 * var\n",
    "    expo = np.exp(-(expr2))\n",
    "    prob = expr1 * expo\n",
    "    return prob"
   ]
  },
  {
   "cell_type": "markdown",
   "metadata": {
    "id": "vueDYZgAmi04"
   },
   "source": [
    "# 2)A)"
   ]
  },
  {
   "cell_type": "code",
   "execution_count": 22,
   "metadata": {
    "colab": {
     "base_uri": "https://localhost:8080/"
    },
    "id": "y-KTY1yAQTrH",
    "outputId": "b7ea57ae-95ae-40da-bfc0-1e6b579c0bac"
   },
   "outputs": [
    {
     "name": "stdout",
     "output_type": "stream",
     "text": [
      "[ 1.62065759 59.37655744 32.        ]\t = \tW\n",
      "[ 1.77939838 72.07177567 36.        ]\t = \tM\n",
      "[ 1.70045766 66.26750811 31.        ]\t = \tW\n",
      "[ 1.65910862 61.7516219  29.        ]\t = \tW\n"
     ]
    }
   ],
   "source": [
    "# Here we are iterating through test_np dataset\n",
    "for ns in test_np:\n",
    "    m_op, w_op = 1.0, 1.0\n",
    "    print(ns,end = '\\t = \\t')\n",
    "    # Here are are calling the gnb function to get the probability for each input data feature\n",
    "    # ns[0] is height of new sample, M_m[0] is mean height, M_v[0] is vaiance of height\n",
    "    # ns[1] is weight of new sample, M_m[0] is mean weight, M_v[0] is vaiance of weight\n",
    "    # ns[2] is age of new sample, M_m[0] is mean age, M_v[0] is vaiance of age\n",
    "    # And then we multiply each of these probabilities\n",
    "    for i in range(len(ns)):\n",
    "        m_op *= (gnb(ns[i],M_m[i],M_v[i]))\n",
    "        w_op *= (gnb(ns[i],W_m[i],W_v[i]))\n",
    "    # We check which output label has highest probability and classify the sample as that output label.\n",
    "    if m_op > w_op:\n",
    "        print ('M')\n",
    "    else:\n",
    "        print('W')"
   ]
  },
  {
   "cell_type": "markdown",
   "metadata": {
    "id": "kG04e7nZWu1k"
   },
   "source": [
    "# 2)B)"
   ]
  },
  {
   "cell_type": "code",
   "execution_count": 23,
   "metadata": {
    "colab": {
     "base_uri": "https://localhost:8080/"
    },
    "id": "YrLVSJdOQUtT",
    "outputId": "9f85028c-d854-4002-b542-6854bce2b281"
   },
   "outputs": [
    {
     "name": "stdout",
     "output_type": "stream",
     "text": [
      "Enter Height, Weight and Age as \",\" seperated parameters\n",
      "1.7359417237856, 77.004988515324, 20\n",
      "Output = M\n"
     ]
    }
   ],
   "source": [
    "# Enter Height, Weight, Age and K value to predict the output label using GNB\n",
    "ns = input('Enter Height, Weight and Age as \",\" seperated parameters\\n')\n",
    "ns = [float(i.strip()) for i in ns.split(',')]\n",
    "m_op, w_op = 1.0, 1.0\n",
    "for i in range(len(ns)):\n",
    "    m_op *= (gnb(ns[i],M_m[i],M_v[i]))\n",
    "    w_op *= (gnb(ns[i],W_m[i],W_v[i]))\n",
    "if m_op > w_op:\n",
    "    print ('Output = M')\n",
    "else:\n",
    "    print('Output = W')"
   ]
  },
  {
   "cell_type": "markdown",
   "metadata": {
    "id": "4A_NNC8YhqkE"
   },
   "source": [
    "# 2)C)"
   ]
  },
  {
   "cell_type": "code",
   "execution_count": 24,
   "metadata": {
    "colab": {
     "base_uri": "https://localhost:8080/"
    },
    "id": "yQDcLERxXKLP",
    "outputId": "ac2381d6-cfa7-4fec-f250-2b0ad30320e8"
   },
   "outputs": [
    {
     "name": "stdout",
     "output_type": "stream",
     "text": [
      "Error is 46.22 %\n"
     ]
    }
   ],
   "source": [
    "miss_classified = 0\n",
    "# Here we are iterating through large_np dataset\n",
    "for i in range(len(large_np)):\n",
    "    # Storing the new sample in a variable\n",
    "    ns = large_np[i]\n",
    "    # Deleteing the stored sample from the training data\n",
    "    large_np = np.delete(large_np, i, axis = 0)\n",
    "    # Predicitng the output class using GNB algorithm\n",
    "    for j in range(len(ns)-1):\n",
    "        m_op *= (gnb(ns[j],M_m[j],M_v[j]))\n",
    "        w_op *= (gnb(ns[j],W_m[j],W_v[j]))\n",
    "    op = 'W'\n",
    "    # if probability of M is greater than W then output class label is set to M\n",
    "    if m_op > w_op:\n",
    "        op = ('M')\n",
    "    # Checking here if the output label is classified correclty or not\n",
    "    if (ns[-1] == 0.0 and op == 'M') or (ns[-1] == 1.0 and op == 'W'):\n",
    "        miss_classified+=1\n",
    "    # Adding back the deleted sample to the training dataset\n",
    "    large_np = np.insert(large_np, i,  ns, axis = 0)\n",
    "# Printing the error by checking the miss classified labels w.r.t total training dataset size - 1\n",
    "print(\"Error is \" + str(round(miss_classified/(len(large_np)-1)*100,2)) + ' %')"
   ]
  },
  {
   "cell_type": "markdown",
   "metadata": {
    "id": "8eYO4DbrhtQk"
   },
   "source": [
    "# 2)D)"
   ]
  },
  {
   "cell_type": "code",
   "execution_count": 25,
   "metadata": {
    "colab": {
     "base_uri": "https://localhost:8080/"
    },
    "id": "ek6RdQ8sclVG",
    "outputId": "4ddfda74-d0e7-4d99-b388-f29e35a98ab9"
   },
   "outputs": [
    {
     "name": "stdout",
     "output_type": "stream",
     "text": [
      "Error is 45.38 %\n"
     ]
    }
   ],
   "source": [
    "miss_classified = 0\n",
    "# Here we are iterating through large_np_wo_age (dataset with no age data) dataset\n",
    "for i in range(len(large_np_wo_age)):\n",
    "    # Storing the new sample in a variable\n",
    "    ns = large_np_wo_age[i]\n",
    "    # Deleteing the stored sample from the training data\n",
    "    large_np_wo_age = np.delete(large_np_wo_age, i, axis = 0)\n",
    "    # Predicitng the output class using GNB algorithm\n",
    "    for j in range(len(ns)-1):\n",
    "            m_op *= (gnb(ns[j],M_m[j],M_v[j]))\n",
    "            w_op *= (gnb(ns[j],W_m[j],W_v[j]))\n",
    "    op = 'W'\n",
    "    # if probability of M is greater than W then output class label is set to M\n",
    "    if m_op > w_op:\n",
    "        op = ('M')\n",
    "    # Checking here if the output label is classified correclty or not\n",
    "    if (ns[-1] == 0.0 and op == 'M') or (ns[-1] == 1.0 and op == 'W'):\n",
    "        miss_classified+=1\n",
    "    # Adding back the deleted sample to the training dataset\n",
    "    large_np_wo_age = np.insert(large_np_wo_age, i,  ns, axis = 0)\n",
    "# Printing the error by checking the miss classified labels w.r.t total training dataset size - 1\n",
    "print(\"Error is \" + str(round(miss_classified/(len(large_np)-1)*100,2)) + ' %')"
   ]
  },
  {
   "cell_type": "code",
   "execution_count": null,
   "metadata": {
    "id": "oUC_MuSRcrk5"
   },
   "outputs": [],
   "source": [
    "# Like we have seen in KNN, in the GNB also we see that when age data is excluded from the training dataset, the \n",
    "# error rate is a bit lower."
   ]
  },
  {
   "cell_type": "code",
   "execution_count": null,
   "metadata": {},
   "outputs": [],
   "source": [
    "# If we compare GNB and KNN, comparing the error rates we can say that KNN performed better than GNB in both \n",
    "# the cases, including the age data and without including the age data."
   ]
  }
 ],
 "metadata": {
  "colab": {
   "provenance": []
  },
  "kernelspec": {
   "display_name": "Python 3 (ipykernel)",
   "language": "python",
   "name": "python3"
  },
  "language_info": {
   "codemirror_mode": {
    "name": "ipython",
    "version": 3
   },
   "file_extension": ".py",
   "mimetype": "text/x-python",
   "name": "python",
   "nbconvert_exporter": "python",
   "pygments_lexer": "ipython3",
   "version": "3.10.7"
  }
 },
 "nbformat": 4,
 "nbformat_minor": 1
}
